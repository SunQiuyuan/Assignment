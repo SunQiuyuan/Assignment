{
 "cells": [
  {
   "cell_type": "markdown",
   "metadata": {},
   "source": [
    "# Machine Learning: Intermediate report\n",
    "\n",
    "+ Sun Qiuyuan (17M18334)"
   ]
  },
  {
   "cell_type": "markdown",
   "metadata": {},
   "source": [
    "## 1. Multi-class classification on MNIST\n",
    "\n",
    "Train a model on the training set of MNIST, and report the accuracy of the model on the test set. One can use the same code shown in the lecture. Write a code here and show the output."
   ]
  },
    {
      "metadata": {
        "id": "OaLeoEcDYVO_",
        "colab_type": "text"
      },
      "cell_type": "markdown",
      "source": [
        "(1) Preparing the MNIST dataset\n",
        "\n",
      ]
    },
  {
   "cell_type": "markdown",
   "metadata": {},
   "source": [
    "## 2. Confusion matrix\n",
    "\n",
    "Show a confusion matrix of the predictions of the model on the test set. This is an example of a confusion matrix.\n",
    "\n",
    "![example](example-confusion-matrix.png)\n",
    "\n",
    "Write a code here and show the confusion matrix."
   ]
  },
  {
   "cell_type": "code",
   "execution_count": null,
   "metadata": {
    "collapsed": true
   },
   "outputs": [],
   "source": []
  },
  {
   "cell_type": "markdown",
   "metadata": {},
   "source": [
    "## 3. Top-3 confusing examples\n",
    "\n",
    "Show the top three images where the model misrecognized their digits with strong confidences. More specifically, let $y_n$ and $\\hat{y}_n$ the true and predicted, respectively, digits of the image $x_n$. We want to find three images with high $P(\\hat{y}_n | x_n)$ when $y_n \\neq \\hat{y}_n$.\n",
    "\n",
    "Please show $y_n$, $P(y_n | x_n)$, $\\hat{y}_n$, and $P(\\hat{y}_n | x_n)$. This is an example of an output for an image (you need this kind of outputs for top-three images).\n",
    "\n",
    "![example](example-confusing-sample.png)\n",
    "\n",
    "Write a code here and show the output."
   ]
  },
  {
   "cell_type": "code",
   "execution_count": null,
   "metadata": {
    "collapsed": true
   },
   "outputs": [],
   "source": []
  },
  {
   "cell_type": "markdown",
   "metadata": {},
   "source": [
    "## 4. Sample codes in other DL frameworks\n",
    "\n",
    "(Advanced; optional) Implement one or more sample code(s) with a different deep learning framework (e.g., Chainer, TensorFlow, DyNet) corresponding to the slides 60-66 in binary classification. *When subitting an answer to this problem, please agree that some of the submitted codes will be distributed on the Web site to improve this lecture.*"
   ]
  },
  {
   "cell_type": "code",
   "execution_count": null,
   "metadata": {
    "collapsed": true
   },
   "outputs": [],
   "source": []
  }
 ],
 "metadata": {
  "kernelspec": {
   "display_name": "Python 3",
   "language": "python",
   "name": "python3"
  },
  "language_info": {
   "codemirror_mode": {
    "name": "ipython",
    "version": 3
   },
   "file_extension": ".py",
   "mimetype": "text/x-python",
   "name": "python",
   "nbconvert_exporter": "python",
   "pygments_lexer": "ipython3",
   "version": "3.5.2"
  }
 },
 "nbformat": 4,
 "nbformat_minor": 2
}
